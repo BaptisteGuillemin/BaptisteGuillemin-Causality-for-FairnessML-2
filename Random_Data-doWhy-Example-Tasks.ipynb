{
 "cells": [
  {
   "cell_type": "markdown",
   "id": "af23d2f7",
   "metadata": {},
   "source": [
    "##### Install causalinference and dowhy using pip"
   ]
  },
  {
   "cell_type": "code",
   "execution_count": null,
   "id": "5a7602b2",
   "metadata": {},
   "outputs": [],
   "source": []
  },
  {
   "cell_type": "markdown",
   "id": "7243604b",
   "metadata": {},
   "source": [
    "##### Import pandas and numpy"
   ]
  },
  {
   "cell_type": "code",
   "execution_count": null,
   "id": "e2838ba3",
   "metadata": {},
   "outputs": [],
   "source": []
  },
  {
   "cell_type": "markdown",
   "id": "6db98c6d",
   "metadata": {},
   "source": [
    "##### import random_data class from utils and create:\n",
    "    Y for the outcome,\n",
    "    A for the sensitive attribute, and\n",
    "    X for the covariates"
   ]
  },
  {
   "cell_type": "code",
   "execution_count": null,
   "id": "950acdf9",
   "metadata": {},
   "outputs": [],
   "source": []
  },
  {
   "cell_type": "markdown",
   "id": "1e9ecd0c",
   "metadata": {},
   "source": [
    "##### Form a single pandas dataframe using A, X, and Y numpy arrays:\n",
    "    convert the numpy arrays into dataframes\n",
    "    merge them together to form a single dataframe\n",
    "    change the type of the sensitive attribute column (A) into boolean with astype function"
   ]
  },
  {
   "cell_type": "code",
   "execution_count": null,
   "id": "9ee2ad3c",
   "metadata": {},
   "outputs": [],
   "source": []
  },
  {
   "cell_type": "markdown",
   "id": "4838faaa",
   "metadata": {},
   "source": [
    "##### Create a dowhy causal model by specifying the data, the treatment, the outcome, and the covariates"
   ]
  },
  {
   "cell_type": "code",
   "execution_count": null,
   "id": "4f9a96b8",
   "metadata": {},
   "outputs": [],
   "source": []
  },
  {
   "cell_type": "markdown",
   "id": "3134881f",
   "metadata": {},
   "source": [
    "##### Display the causal causal model graphically"
   ]
  },
  {
   "cell_type": "code",
   "execution_count": null,
   "id": "d351679b",
   "metadata": {},
   "outputs": [],
   "source": []
  },
  {
   "cell_type": "markdown",
   "id": "607cbb26",
   "metadata": {},
   "source": [
    "##### Identify the estimand for the causal effect using identify_effect function. Print the estimand."
   ]
  },
  {
   "cell_type": "code",
   "execution_count": null,
   "id": "ee54746c",
   "metadata": {},
   "outputs": [],
   "source": []
  },
  {
   "cell_type": "markdown",
   "id": "9b922e84",
   "metadata": {},
   "source": [
    "##### Estimate the causal effect (ATE) using weighting. Print the estimate."
   ]
  },
  {
   "cell_type": "code",
   "execution_count": null,
   "id": "b383c4f1",
   "metadata": {},
   "outputs": [],
   "source": []
  },
  {
   "cell_type": "markdown",
   "id": "cc33558e",
   "metadata": {},
   "source": [
    "##### Estimate the causal effect (ATE) using stratification. Print the estimate."
   ]
  },
  {
   "cell_type": "code",
   "execution_count": null,
   "id": "afd15d93",
   "metadata": {},
   "outputs": [],
   "source": []
  },
  {
   "cell_type": "markdown",
   "id": "661a1c30",
   "metadata": {},
   "source": [
    "##### Estimate the causal effect (ATE) using matching. Print the estimate."
   ]
  },
  {
   "cell_type": "code",
   "execution_count": null,
   "id": "b4e5ce15",
   "metadata": {},
   "outputs": [],
   "source": []
  }
 ],
 "metadata": {
  "kernelspec": {
   "display_name": "aif360-python-3.7",
   "language": "python",
   "name": "aif360-python-3.7"
  },
  "language_info": {
   "codemirror_mode": {
    "name": "ipython",
    "version": 3
   },
   "file_extension": ".py",
   "mimetype": "text/x-python",
   "name": "python",
   "nbconvert_exporter": "python",
   "pygments_lexer": "ipython3",
   "version": "3.7.13"
  }
 },
 "nbformat": 4,
 "nbformat_minor": 5
}
